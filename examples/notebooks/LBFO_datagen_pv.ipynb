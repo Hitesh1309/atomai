{
 "cells": [
  {
   "cell_type": "markdown",
   "id": "d66db602",
   "metadata": {},
   "source": [
    "Mostly inspired from atomai_training_data.ipynb"
   ]
  },
  {
   "cell_type": "code",
   "execution_count": 1,
   "id": "b27d4f1e",
   "metadata": {},
   "outputs": [
    {
     "name": "stderr",
     "output_type": "stream",
     "text": [
      "/opt/anaconda/envs/shared_conda_env/lib/python3.10/site-packages/tqdm/auto.py:22: TqdmWarning: IProgress not found. Please update jupyter and ipywidgets. See https://ipywidgets.readthedocs.io/en/stable/user_install.html\n",
      "  from .autonotebook import tqdm as notebook_tqdm\n"
     ]
    }
   ],
   "source": [
    "from atomai.utils import create_lattice_mask, extract_patches_\n",
    "from atomai.transforms import datatransform\n",
    "import numpy as np\n",
    "from typing import Optional, Callable, Union, List, Tuple\n",
    "import argparse\n",
    "import numpy as np\n",
    "import torch\n",
    "import cv2\n",
    "from scipy import stats, ndimage\n",
    "from skimage import exposure\n",
    "from skimage.util import random_noise\n",
    "from sklearn.model_selection import train_test_split"
   ]
  },
  {
   "cell_type": "code",
   "execution_count": 2,
   "id": "b6f218db",
   "metadata": {},
   "outputs": [],
   "source": [
    "lattice_im = np.load('data_pv/LBFO/lattice_img.npy')\n",
    "xy_atoms_a = np.load('data_pv/LBFO/lattice_coord_a.npy')\n",
    "xy_atoms_b = np.load('data_pv/LBFO/lattice_coord_b.npy')"
   ]
  },
  {
   "cell_type": "code",
   "execution_count": 3,
   "id": "920ad430",
   "metadata": {},
   "outputs": [],
   "source": [
    "lattice_mask_a = create_lattice_mask(lattice_im, xy_atoms_a.T)\n",
    "lattice_mask_b = create_lattice_mask(lattice_im, xy_atoms_b.T)"
   ]
  },
  {
   "cell_type": "code",
   "execution_count": 4,
   "id": "13b4e18d",
   "metadata": {},
   "outputs": [
    {
     "name": "stdout",
     "output_type": "stream",
     "text": [
      "(3801, 3801) (2, 64932) (2, 65465)\n"
     ]
    }
   ],
   "source": [
    "print(lattice_im.shape, xy_atoms_a.shape, xy_atoms_b.shape)"
   ]
  },
  {
   "cell_type": "code",
   "execution_count": 5,
   "id": "2abbcacb",
   "metadata": {},
   "outputs": [],
   "source": [
    "multiclass = True"
   ]
  },
  {
   "cell_type": "code",
   "execution_count": 6,
   "id": "ec1eed27",
   "metadata": {},
   "outputs": [
    {
     "name": "stdout",
     "output_type": "stream",
     "text": [
      "(5000, 256, 256) (5000, 256, 256, 3)\n"
     ]
    }
   ],
   "source": [
    "\n",
    "if multiclass:\n",
    "    lattice_mask_backgr = 1 - (lattice_mask_a + lattice_mask_b)\n",
    "    lattice_mask = np.concatenate(\n",
    "        (lattice_mask_a[..., None], \n",
    "         lattice_mask_b[..., None],\n",
    "         lattice_mask_backgr[..., None]), # we need to add a background class\n",
    "        axis=-1)\n",
    "else:\n",
    "    lattice_mask = lattice_mask_a + lattice_mask_b\n",
    "    lattice_mask[lattice_mask>1] = 1\n",
    "\n",
    "## Generate image-label pairs\n",
    "images_all, labels_all = extract_patches_(\n",
    "    lattice_im, lattice_mask, patch_size=256, num_patches=5000, random_state=42)\n",
    "print(images_all.shape, labels_all.shape)\n",
    "\n",
    "\n",
    "images_all, images_test_all, labels_all, labels_test_all = train_test_split(\n",
    "    images_all, labels_all, test_size=0.2, random_state=42)\n",
    "\n",
    "\n",
    "images_all, images_val_all, labels_all, labels_val_all = train_test_split(\n",
    "    images_all, labels_all, test_size=0.25, random_state=42)"
   ]
  },
  {
   "cell_type": "code",
   "execution_count": 7,
   "id": "9a34cbe6",
   "metadata": {},
   "outputs": [
    {
     "name": "stdout",
     "output_type": "stream",
     "text": [
      "(1557, 1, 256, 256) (1557, 256, 256)\n"
     ]
    }
   ],
   "source": [
    "# For a single class case, we still need to explicitly specify the single channel\n",
    "labels_all = labels_all[..., None] if np.ndim(labels_all) == 3 else labels_all\n",
    "# Number of channels in masked data (the training images have a single channel)\n",
    "ch = labels_all.shape[-1]\n",
    "# Define image distortion/noise parameters\n",
    "zoom = 1.1 # zoom factor\n",
    "poisson = [30, 40] # P noise range (scaled units)\n",
    "gauss = [20, 100] # G noise range (scaled units)\n",
    "blur = [1, 40] # Blurring range (scaled units)\n",
    "contrast = [5, 14] # contrast range (< 10 is brighter, > 10 is darker)\n",
    "salt_and_pepper = [1, 10] # min/max amount of salted/peppered pixels (scaled units)\n",
    "# Run the augmentor\n",
    "imaug = datatransform(\n",
    "    n_channels=ch, dim_order_in='channel_last', dim_order_out='channel_first', \n",
    "    gauss_noise=gauss, poisson_noise=poisson, salt_and_pepper=salt_and_pepper,\n",
    "    contrast=contrast, blur=blur, zoom=zoom, rotation=True,\n",
    "    squeeze_channels=True, seed=42)\n",
    "images_all, labels_all = imaug.run(images_all, labels_all)\n",
    "\n",
    "print(images_all.shape, labels_all.shape)"
   ]
  },
  {
   "cell_type": "code",
   "execution_count": 8,
   "id": "77d674ef",
   "metadata": {},
   "outputs": [],
   "source": [
    "imaug = datatransform(\n",
    "    n_channels=ch, dim_order_in='channel_last', dim_order_out='channel_first', \n",
    "    gauss_noise=gauss, poisson_noise=poisson, salt_and_pepper=salt_and_pepper,\n",
    "    contrast=contrast, blur=blur, zoom=zoom, rotation=True,\n",
    "    squeeze_channels=True, seed=42)\n",
    "images_val_all, labels_val_all = imaug.run(images_val_all, labels_val_all)"
   ]
  },
  {
   "cell_type": "code",
   "execution_count": 9,
   "id": "f9c7d698",
   "metadata": {},
   "outputs": [
    {
     "name": "stdout",
     "output_type": "stream",
     "text": [
      "(485, 1, 256, 256) (485, 256, 256)\n"
     ]
    }
   ],
   "source": [
    "print(images_val_all.shape, labels_val_all.shape)"
   ]
  },
  {
   "cell_type": "code",
   "execution_count": 10,
   "id": "c6b44612",
   "metadata": {},
   "outputs": [],
   "source": [
    "#preserve everything about test, just convert to format required\n",
    "imaug = datatransform(n_channels=ch, dim_order_in='channel_last', dim_order_out='channel_first',\n",
    "    squeeze_channels=True, seed=42)\n",
    "images_test_all, labels_test_all = imaug.run(images_test_all, labels_test_all)"
   ]
  },
  {
   "cell_type": "code",
   "execution_count": 11,
   "id": "f05dcb9c",
   "metadata": {},
   "outputs": [
    {
     "name": "stdout",
     "output_type": "stream",
     "text": [
      "(787, 1, 256, 256) (787, 256, 256)\n"
     ]
    }
   ],
   "source": [
    "print(images_test_all.shape, labels_test_all.shape)"
   ]
  },
  {
   "cell_type": "code",
   "execution_count": 12,
   "id": "6c63cc16",
   "metadata": {},
   "outputs": [],
   "source": [
    "path='data_out_pv/'\n",
    "np.save(path+'X_train.npy',images_all)\n",
    "np.save(path+'y_train.npy',labels_all)\n",
    "np.save(path+'X_val.npy',images_val_all)\n",
    "np.save(path+'y_val.npy',labels_val_all)\n",
    "np.save(path+'X_test.npy',images_test_all)\n",
    "np.save(path+'y_test.npy',labels_test_all)"
   ]
  }
 ],
 "metadata": {
  "kernelspec": {
   "display_name": "Python 3 (ipykernel)",
   "language": "python",
   "name": "python3"
  },
  "language_info": {
   "codemirror_mode": {
    "name": "ipython",
    "version": 3
   },
   "file_extension": ".py",
   "mimetype": "text/x-python",
   "name": "python",
   "nbconvert_exporter": "python",
   "pygments_lexer": "ipython3",
   "version": "3.10.6"
  }
 },
 "nbformat": 4,
 "nbformat_minor": 5
}
